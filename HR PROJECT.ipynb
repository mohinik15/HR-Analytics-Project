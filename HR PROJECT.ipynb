{
 "cells": [
  {
   "cell_type": "markdown",
   "id": "dcab7203",
   "metadata": {},
   "source": [
    "# HR Analytics Project\n",
    "Problem Statement:\n",
    "Every year a lot of companies hire a number of employees. The companies invest time and money in training those employees, not just this but there are training programs within the companies for their existing employees as well. The aim of these programs is to increase the effectiveness of their employees. But where HR Analytics fit in this? and is it just about improving the performance of employees?\n",
    "\n",
    "HR Analytics Human resource analytics (HR analytics) is an area in the field of analytics that refers to applying analytic processes to the human resource department of an organization in the hope of improving employee performance and therefore getting a better return on investment. HR analytics does not just deal with gathering data on employee efficiency. Instead, it aims to provide insight into each process by gathering data and then using it to make relevant decisions about how to improve these processes.\n",
    "\n",
    "Attrition in HR Attrition in human resources refers to the gradual loss of employees overtime. In general, relatively high attrition is problematic for companies. HR professionals often assume a leadership role in designing company compensation programs, work culture, and motivation systems that help the organization retain top employees. How does Attrition affect companies? and how does HR Analytics help in analyzing attrition? We will discuss the first question here and for the second question, we will write the code and try to understand the process step by step.\n",
    "\n",
    "Attrition affecting Companies A major problem in high employee attrition is its cost to an organization. Job postings, hiring processes, paperwork, and new hire training are some of the common expenses of losing employees and replacing them. Additionally, regular employee turnover prohibits your organization from increasing its collective knowledge base and experience over time. This is especially concerning if your business is customer-facing, as customers often prefer to interact with familiar people. Errors and issues are more likely if you constantly have new workers."
   ]
  },
  {
   "cell_type": "code",
   "execution_count": null,
   "id": "aebef48c",
   "metadata": {},
   "outputs": [],
   "source": [
    "import warnings\n",
    "warnings.simplefilter(\"ignore\")\n",
    "warnings.filterwarnings(\"ignore\")\n",
    "import joblib\n",
    "\n",
    "import pandas as pd\n",
    "import numpy as np\n",
    "import seaborn as sns\n",
    "import matplotlib.pyplot as plt\n",
    "%matplotlib inline\n",
    "from scipy.stats import zscore\n",
    "\n",
    "from imblearn.over_sampling import SMOTE\n",
    "from sklearn.preprocessing import LabelEncoder\n",
    "from sklearn.preprocessing import OrdinalEncoder\n",
    "from sklearn.preprocessing import StandardScaler\n",
    "from sklearn.model_selection import train_test_split\n",
    "from sklearn.linear_model import LogisticRegression\n",
    "from sklearn.svm import SVC\n",
    "from sklearn.tree import DecisionTreeClassifier\n",
    "from sklearn.ensemble import RandomForestClassifier\n",
    "from sklearn.ensemble import ExtraTreesClassifier\n",
    "from sklearn.neighbors import KNeighborsClassifier\n",
    "import xgboost as xgb\n",
    "import lightgbm as lgb\n",
    "\n",
    "from sklearn import metrics\n",
    "from sklearn.metrics import classification_report\n",
    "from sklearn.metrics import accuracy_score\n",
    "from sklearn.model_selection import cross_val_score\n",
    "from sklearn.model_selection import GridSearchCV"
   ]
  },
  {
   "cell_type": "code",
   "execution_count": null,
   "id": "38621cf3",
   "metadata": {},
   "outputs": [],
   "source": [
    "df = pd.read_csv(\"WA_Fn-UseC_-HR-Employee-Attrition.csv\")"
   ]
  },
  {
   "cell_type": "code",
   "execution_count": null,
   "id": "d56130af",
   "metadata": {},
   "outputs": [],
   "source": [
    "df"
   ]
  },
  {
   "cell_type": "markdown",
   "id": "158fa0a3",
   "metadata": {},
   "source": [
    "# Exploratory Data Analysis (EDA)"
   ]
  },
  {
   "cell_type": "code",
   "execution_count": null,
   "id": "335d1694",
   "metadata": {},
   "outputs": [],
   "source": [
    "df.columns"
   ]
  },
  {
   "cell_type": "code",
   "execution_count": null,
   "id": "0df456d0",
   "metadata": {},
   "outputs": [],
   "source": [
    "pd.set_option('display.max_columns', None)\n",
    "pd.set_option('display.max_rows', None)"
   ]
  },
  {
   "cell_type": "code",
   "execution_count": null,
   "id": "aa216b90",
   "metadata": {},
   "outputs": [],
   "source": [
    "df.info()"
   ]
  },
  {
   "cell_type": "code",
   "execution_count": null,
   "id": "67fa37bd",
   "metadata": {},
   "outputs": [],
   "source": [
    "df.nunique().to_frame(\"Unique Values\")"
   ]
  },
  {
   "cell_type": "code",
   "execution_count": null,
   "id": "b335f0e7",
   "metadata": {},
   "outputs": [],
   "source": [
    "df.isna().sum()"
   ]
  },
  {
   "cell_type": "code",
   "execution_count": null,
   "id": "1879fe09",
   "metadata": {},
   "outputs": [],
   "source": [
    "df.describe().T"
   ]
  },
  {
   "cell_type": "code",
   "execution_count": null,
   "id": "611673e6",
   "metadata": {},
   "outputs": [],
   "source": [
    "df.drop([\"EmployeeCount\", \"EmployeeNumber\", \"Over18\", \"StandardHours\"], axis=1, inplace=True)"
   ]
  },
  {
   "cell_type": "code",
   "execution_count": null,
   "id": "eb9f78e6",
   "metadata": {},
   "outputs": [],
   "source": [
    "object_datatype = []\n",
    "for x in df.dtypes.index:\n",
    "    if df.dtypes[x] == 'object':\n",
    "        object_datatype.append(x)\n",
    "object_datatype"
   ]
  },
  {
   "cell_type": "code",
   "execution_count": null,
   "id": "e31a535f",
   "metadata": {},
   "outputs": [],
   "source": [
    "integer_datatype = []\n",
    "for x in df.dtypes.index:\n",
    "    if df.dtypes[x] == 'int64':\n",
    "        integer_datatype.append(x)\n",
    "integer_datatype"
   ]
  },
  {
   "cell_type": "markdown",
   "id": "7aa62bd2",
   "metadata": {},
   "source": [
    "# Visualization"
   ]
  },
  {
   "cell_type": "code",
   "execution_count": null,
   "id": "bcaaea7b",
   "metadata": {},
   "outputs": [],
   "source": [
    "plt.figure(figsize=(8,5))\n",
    "col_name = 'Attrition'\n",
    "values = df[col_name].value_counts()\n",
    "index = 0\n",
    "ax = sns.countplot(df[col_name], palette=\"mako\")\n",
    "\n",
    "for i in ax.get_xticklabels():\n",
    "    ax.text(index, values[i.get_text()]/2, values[i.get_text()], \n",
    "            horizontalalignment=\"center\", fontweight='bold', color='w')\n",
    "    index += 1\n",
    "    \n",
    "plt.title(f\"Count Plot for {col_name}\\n\")\n",
    "plt.ylabel(f\"Number of rows\")\n",
    "plt.xticks(rotation=90)\n",
    "plt.show()\n"
   ]
  },
  {
   "cell_type": "code",
   "execution_count": null,
   "id": "1e6c4584",
   "metadata": {},
   "outputs": [],
   "source": [
    "plt.figure(figsize=(8,5))\n",
    "col_name = 'Gender'\n",
    "values = df[col_name].value_counts()\n",
    "index = 0\n",
    "ax = sns.countplot(df[col_name], palette=\"mako\")\n",
    "\n",
    "for i in ax.get_xticklabels():\n",
    "    ax.text(index, values[i.get_text()]/2, values[i.get_text()], \n",
    "            horizontalalignment=\"center\", fontweight='bold', color='w')\n",
    "    index += 1\n",
    "    \n",
    "plt.title(f\"Count Plot for {col_name}\\n\")\n",
    "plt.ylabel(f\"Number of rows\")\n",
    "plt.xticks(rotation=90)\n",
    "plt.show()"
   ]
  },
  {
   "cell_type": "code",
   "execution_count": null,
   "id": "ed4695b3",
   "metadata": {},
   "outputs": [],
   "source": [
    "plt.figure(figsize=(8,5))\n",
    "col_name = 'OverTime'\n",
    "values = df[col_name].value_counts()\n",
    "index = 0\n",
    "ax = sns.countplot(df[col_name], palette=\"mako\")\n",
    "\n",
    "for i in ax.get_xticklabels():\n",
    "    ax.text(index, values[i.get_text()]/2, values[i.get_text()], \n",
    "            horizontalalignment=\"center\", fontweight='bold', color='w')\n",
    "    index += 1\n",
    "    \n",
    "plt.title(f\"Count Plot for {col_name}\\n\")\n",
    "plt.ylabel(f\"Number of rows\")\n",
    "plt.show()\n"
   ]
  },
  {
   "cell_type": "code",
   "execution_count": null,
   "id": "433d8bdd",
   "metadata": {},
   "outputs": [],
   "source": [
    "plt.figure(figsize=(8,5))\n",
    "col_name = 'BusinessTravel'\n",
    "values = df[col_name].value_counts()\n",
    "index = 0\n",
    "ax = sns.countplot(df[col_name], palette=\"mako\")\n",
    "\n",
    "for i in ax.get_xticklabels():\n",
    "    ax.text(index, values[i.get_text()]/2, values[i.get_text()], \n",
    "            horizontalalignment=\"center\", fontweight='bold', color='w')\n",
    "    index += 1\n",
    "    \n",
    "plt.title(f\"Count Plot for {col_name}\\n\")\n",
    "plt.ylabel(f\"Number of rows\")\n",
    "plt.xticks(rotation=90)\n",
    "plt.show()\n"
   ]
  },
  {
   "cell_type": "code",
   "execution_count": null,
   "id": "123b8ec3",
   "metadata": {},
   "outputs": [],
   "source": [
    "plt.figure(figsize=(8,5))\n",
    "col_name = 'Department'\n",
    "values = df[col_name].value_counts()\n",
    "index = 0\n",
    "ax = sns.countplot(df[col_name], palette=\"mako\")\n",
    "\n",
    "for i in ax.get_xticklabels():\n",
    "    ax.text(index, values[i.get_text()]/2, values[i.get_text()], \n",
    "            horizontalalignment=\"center\", fontweight='bold', color='w')\n",
    "    index += 1\n",
    "    \n",
    "plt.title(f\"Count Plot for {col_name}\\n\")\n",
    "plt.ylabel(f\"Number of rows\")\n",
    "plt.xticks(rotation=90)\n",
    "plt.show()"
   ]
  },
  {
   "cell_type": "code",
   "execution_count": null,
   "id": "f399d926",
   "metadata": {},
   "outputs": [],
   "source": [
    "plt.figure(figsize=(8,5))\n",
    "col_name = 'MaritalStatus'\n",
    "values = df[col_name].value_counts()\n",
    "index = 0\n",
    "ax = sns.countplot(df[col_name], palette=\"mako\")\n",
    "\n",
    "for i in ax.get_xticklabels():\n",
    "    ax.text(index, values[i.get_text()]/2, values[i.get_text()], \n",
    "            horizontalalignment=\"center\", fontweight='bold', color='w')\n",
    "    index += 1\n",
    "    \n",
    "plt.title(f\"Count Plot for {col_name}\\n\")\n",
    "plt.ylabel(f\"Number of rows\")\n",
    "plt.xticks(rotation=90)\n",
    "plt.show()"
   ]
  },
  {
   "cell_type": "code",
   "execution_count": null,
   "id": "9b9ab520",
   "metadata": {},
   "outputs": [],
   "source": [
    "plt.figure(figsize=(8,5))\n",
    "col_name = 'EducationField'\n",
    "values = df[col_name].value_counts()\n",
    "index = 0\n",
    "ax = sns.countplot(df[col_name], palette=\"mako\")\n",
    "\n",
    "for i in ax.get_xticklabels():\n",
    "    ax.text(index, values[i.get_text()]/2, values[i.get_text()], \n",
    "            horizontalalignment=\"center\", fontweight='bold', color='w')\n",
    "    index += 1\n",
    "    \n",
    "plt.title(f\"Count Plot for {col_name}\\n\")\n",
    "plt.ylabel(f\"Number of rows\")\n",
    "plt.xticks(rotation=90)\n",
    "plt.show()\n"
   ]
  },
  {
   "cell_type": "code",
   "execution_count": null,
   "id": "ed1fcb50",
   "metadata": {},
   "outputs": [],
   "source": [
    "plt.figure(figsize=(8,5))\n",
    "col_name = 'JobRole'\n",
    "values = df[col_name].value_counts()\n",
    "index = 0\n",
    "ax = sns.countplot(df[col_name], palette=\"mako\")\n",
    "\n",
    "for i in ax.get_xticklabels():\n",
    "    ax.text(index, values[i.get_text()]/2, values[i.get_text()], \n",
    "            horizontalalignment=\"center\", fontweight='bold', color='w')\n",
    "    index += 1\n",
    "    \n",
    "plt.title(f\"Count Plot for {col_name}\\n\")\n",
    "plt.ylabel(f\"Number of rows\")\n",
    "plt.xticks(rotation=90)\n",
    "plt.show()"
   ]
  },
  {
   "cell_type": "code",
   "execution_count": null,
   "id": "69055cac",
   "metadata": {},
   "outputs": [],
   "source": [
    "fig, ax = plt.subplots(ncols=3, nrows=8, figsize=(15,50))\n",
    "index = 0\n",
    "ax = ax.flatten()\n",
    "for col, value in df[integer_datatype].items():\n",
    "    sns.boxplot(y=col, data=df, ax=ax[index], palette=\"Reds\")\n",
    "    index += 1\n",
    "plt.show()"
   ]
  },
  {
   "cell_type": "code",
   "execution_count": null,
   "id": "16fe505b",
   "metadata": {},
   "outputs": [],
   "source": [
    "fig, ax = plt.subplots(ncols=3, nrows=8, figsize=(15,50))\n",
    "index = 0\n",
    "ax = ax.flatten()\n",
    "for col, value in df[integer_datatype].items():\n",
    "    sns.distplot(value, ax=ax[index], hist=False, color=\"g\", kde_kws={\"shade\": True})\n",
    "    index += 1\n",
    "plt.show()"
   ]
  },
  {
   "cell_type": "code",
   "execution_count": null,
   "id": "56365f4f",
   "metadata": {},
   "outputs": [],
   "source": [
    "plt.figure(figsize=(10,7))\n",
    "sns.violinplot(x=\"Attrition\", y=\"Age\", hue=\"Gender\", data=df, \n",
    "               palette=\"Set2\", split=True, scale=\"count\", inner=\"quartile\")\n",
    "plt.show()"
   ]
  },
  {
   "cell_type": "code",
   "execution_count": null,
   "id": "4cf2ac54",
   "metadata": {},
   "outputs": [],
   "source": [
    "plt.figure(figsize=(10,7))\n",
    "sns.violinplot(x=\"Attrition\", y=\"MonthlyIncome\", hue=\"Gender\", data=df, \n",
    "               palette=\"Set2\", split=True, scale=\"count\", inner=\"quartile\")\n",
    "plt.show()"
   ]
  },
  {
   "cell_type": "code",
   "execution_count": null,
   "id": "c6359734",
   "metadata": {},
   "outputs": [],
   "source": [
    "plt.figure(figsize=(10,7))\n",
    "sns.violinplot(x=\"Attrition\", y=\"TotalWorkingYears\", hue=\"Gender\", data=df, \n",
    "               palette=\"Set2\", split=True, scale=\"count\", inner=\"quartile\")\n",
    "plt.show()"
   ]
  },
  {
   "cell_type": "code",
   "execution_count": null,
   "id": "bf494f50",
   "metadata": {},
   "outputs": [],
   "source": [
    "plt.figure(figsize=(10,7))\n",
    "sns.violinplot(x=\"Attrition\", y=\"YearsSinceLastPromotion\", hue=\"Gender\", data=df, \n",
    "               palette=\"Set2\", split=True, scale=\"count\", inner=\"quartile\")\n",
    "plt.show()"
   ]
  },
  {
   "cell_type": "code",
   "execution_count": null,
   "id": "4734f461",
   "metadata": {},
   "outputs": [],
   "source": [
    "plt.figure(figsize=(10,7))\n",
    "sns.violinplot(x=\"MaritalStatus\", y=\"Age\", hue=\"Attrition\", data=df, \n",
    "               palette=\"Set1\", split=True, scale=\"count\", inner=\"quartile\")\n",
    "plt.show()"
   ]
  },
  {
   "cell_type": "code",
   "execution_count": null,
   "id": "865417bf",
   "metadata": {},
   "outputs": [],
   "source": [
    "plt.figure(figsize=(10,7))\n",
    "sns.violinplot(x=\"MaritalStatus\", y=\"Education\", hue=\"Attrition\", data=df, \n",
    "               palette=\"Set1\", split=True, scale=\"count\", inner=\"quartile\")\n",
    "plt.show()"
   ]
  },
  {
   "cell_type": "code",
   "execution_count": null,
   "id": "7052a502",
   "metadata": {},
   "outputs": [],
   "source": [
    "plt.figure(figsize=(10,7))\n",
    "sns.violinplot(x=\"MaritalStatus\", y=\"JobSatisfaction\", hue=\"Attrition\", data=df, \n",
    "               palette=\"Set1\", split=True, scale=\"count\", inner=\"quartile\")\n",
    "plt.show()"
   ]
  },
  {
   "cell_type": "code",
   "execution_count": null,
   "id": "8edb0b84",
   "metadata": {},
   "outputs": [],
   "source": [
    "plt.figure(figsize=(10,7))\n",
    "sns.violinplot(x=\"MaritalStatus\", y=\"WorkLifeBalance\", hue=\"Attrition\", data=df, \n",
    "               palette=\"Set1\", split=True, scale=\"count\", inner=\"quartile\")\n",
    "plt.show()"
   ]
  },
  {
   "cell_type": "code",
   "execution_count": null,
   "id": "8d1d9d1e",
   "metadata": {},
   "outputs": [],
   "source": [
    "plt.figure(figsize=(10,7))\n",
    "sns.violinplot(x=\"MaritalStatus\", y=\"PercentSalaryHike\", hue=\"Attrition\", data=df, \n",
    "               palette=\"Set1\", split=True, scale=\"count\", inner=\"quartile\")\n",
    "plt.show()"
   ]
  },
  {
   "cell_type": "markdown",
   "id": "ce4abe17",
   "metadata": {},
   "source": [
    "# Encoding the categorical object datatype columns"
   ]
  },
  {
   "cell_type": "code",
   "execution_count": null,
   "id": "94d22811",
   "metadata": {},
   "outputs": [],
   "source": [
    "# Label Encoder\n",
    "\n",
    "le = LabelEncoder()\n",
    "le.fit(df[\"Attrition\"])\n",
    "le.classes_\n",
    "pd.Series(le.transform(df[\"Attrition\"])).head()"
   ]
  },
  {
   "cell_type": "code",
   "execution_count": null,
   "id": "471a8ab8",
   "metadata": {},
   "outputs": [],
   "source": [
    "df[\"Attrition\"] = le.fit_transform(df[\"Attrition\"])\n",
    "df.head()"
   ]
  },
  {
   "cell_type": "code",
   "execution_count": null,
   "id": "e9068119",
   "metadata": {},
   "outputs": [],
   "source": [
    "# Ordinal Encoder\n",
    "\n",
    "oe = OrdinalEncoder()\n",
    "df['BusinessTravel'] = oe.fit_transform(df['BusinessTravel'].values.reshape(-1,1))\n",
    "df['Department'] = oe.fit_transform(df['Department'].values.reshape(-1,1))\n",
    "df['EducationField'] = oe.fit_transform(df['EducationField'].values.reshape(-1,1))\n",
    "df['Gender'] = oe.fit_transform(df['Gender'].values.reshape(-1,1))\n",
    "df['JobRole'] = oe.fit_transform(df['JobRole'].values.reshape(-1,1))\n",
    "df['MaritalStatus'] = oe.fit_transform(df['MaritalStatus'].values.reshape(-1,1))\n",
    "df['OverTime'] = oe.fit_transform(df['OverTime'].values.reshape(-1,1))"
   ]
  },
  {
   "cell_type": "code",
   "execution_count": null,
   "id": "e183c8ac",
   "metadata": {},
   "outputs": [],
   "source": [
    "df.head()"
   ]
  },
  {
   "cell_type": "code",
   "execution_count": null,
   "id": "77249bdd",
   "metadata": {},
   "outputs": [],
   "source": [
    "df.hist(figsize=(25,30))\n",
    "plt.show()"
   ]
  },
  {
   "cell_type": "markdown",
   "id": "406a90bc",
   "metadata": {},
   "source": [
    "# Correlation using a Heatmap"
   ]
  },
  {
   "cell_type": "code",
   "execution_count": null,
   "id": "47fb22f8",
   "metadata": {},
   "outputs": [],
   "source": [
    "upper_triangle = np.triu(df.corr())\n",
    "plt.figure(figsize=(26,18))\n",
    "sns.heatmap(df.corr(), vmin=-1, vmax=1, annot=True, square=True, fmt='0.3f', \n",
    "            annot_kws={'size':10}, cmap=\"cubehelix_r\", mask=upper_triangle)\n",
    "plt.xticks(fontsize=14)\n",
    "plt.yticks(fontsize=14)\n",
    "plt.show()"
   ]
  },
  {
   "cell_type": "code",
   "execution_count": null,
   "id": "174e8a92",
   "metadata": {},
   "outputs": [],
   "source": [
    "df_corr = df.corr()\n",
    "plt.figure(figsize=(15,5))\n",
    "df_corr['Attrition'].sort_values(ascending=False).drop('Attrition').plot.bar()\n",
    "plt.title(\"Correlation of Features vs Label\\n\", fontsize=16)\n",
    "plt.xlabel(\"\\nFeatures List\", fontsize=14)\n",
    "plt.ylabel(\"Correlation Value\", fontsize=12)\n",
    "plt.show()"
   ]
  },
  {
   "cell_type": "markdown",
   "id": "b911d974",
   "metadata": {},
   "source": [
    "# Using Z Score to remove outliers"
   ]
  },
  {
   "cell_type": "code",
   "execution_count": null,
   "id": "a51f049f",
   "metadata": {},
   "outputs": [],
   "source": [
    "z = np.abs(zscore(df))\n",
    "threshold = 3\n",
    "df1 = df[(z<3).all(axis = 1)]\n",
    "\n",
    "print (\"Shape of the dataframe before removing outliers: \", df.shape)\n",
    "print (\"Shape of the dataframe after removing outliers: \", df1.shape)\n",
    "print (\"Percentage of data loss post outlier removal: \", (df.shape[0]-df1.shape[0])/df.shape[0]*100)\n",
    "\n",
    "df=df1.copy() # reassigning the changed dataframe name to our original dataframe name"
   ]
  },
  {
   "cell_type": "code",
   "execution_count": null,
   "id": "c1bfa3aa",
   "metadata": {},
   "outputs": [],
   "source": [
    "fig, ax = plt.subplots(ncols=3, nrows=8, figsize=(15,50))\n",
    "index = 0\n",
    "ax = ax.flatten()\n",
    "for col, value in df[integer_datatype].items():\n",
    "    sns.boxplot(y=col, data=df, ax=ax[index], palette=\"prism\")\n",
    "    index += 1\n",
    "plt.show()"
   ]
  },
  {
   "cell_type": "code",
   "execution_count": null,
   "id": "89a6c03f",
   "metadata": {},
   "outputs": [],
   "source": [
    "df.skew()"
   ]
  },
  {
   "cell_type": "markdown",
   "id": "60cda74f",
   "metadata": {},
   "source": [
    "# Using Log Transform to fix skewness"
   ]
  },
  {
   "cell_type": "code",
   "execution_count": null,
   "id": "5f79579b",
   "metadata": {},
   "outputs": [],
   "source": [
    "for col in integer_datatype:\n",
    "    if df.skew().loc[col]>0.55:\n",
    "        df[col]=np.log1p(df[col])"
   ]
  },
  {
   "cell_type": "code",
   "execution_count": null,
   "id": "1c9451c2",
   "metadata": {},
   "outputs": [],
   "source": [
    "fig, ax = plt.subplots(ncols=3, nrows=8, figsize=(15,50))\n",
    "index = 0\n",
    "ax = ax.flatten()\n",
    "for col, value in df[integer_datatype].items():\n",
    "    sns.distplot(value, ax=ax[index], hist=False, color=\"r\", kde_kws={\"shade\": True})\n",
    "    index += 1\n",
    "plt.show()"
   ]
  },
  {
   "cell_type": "markdown",
   "id": "7821eaa4",
   "metadata": {},
   "source": [
    "# Splitting the dataset into 2 variables namely 'X' and 'Y' for feature and label"
   ]
  },
  {
   "cell_type": "code",
   "execution_count": null,
   "id": "a6cf052a",
   "metadata": {},
   "outputs": [],
   "source": [
    "X = df.drop('Attrition', axis=1)\n",
    "Y = df['Attrition']"
   ]
  },
  {
   "cell_type": "markdown",
   "id": "78991645",
   "metadata": {},
   "source": [
    "# Resolving the class imbalance issue in label column"
   ]
  },
  {
   "cell_type": "code",
   "execution_count": null,
   "id": "c57f0ee1",
   "metadata": {},
   "outputs": [],
   "source": [
    "y.value_counts()"
   ]
  },
  {
   "cell_type": "code",
   "execution_count": null,
   "id": "ee60c81d",
   "metadata": {},
   "outputs": [],
   "source": [
    "# adding samples to make all the categorical quality values same\n",
    "\n",
    "oversample = SMOTE()\n",
    "X, Y = oversample.fit_resample(X, Y)"
   ]
  },
  {
   "cell_type": "code",
   "execution_count": null,
   "id": "416b72c0",
   "metadata": {},
   "outputs": [],
   "source": [
    "y.value_counts()"
   ]
  },
  {
   "cell_type": "markdown",
   "id": "4b862c2c",
   "metadata": {},
   "source": [
    "# Feature Scaling"
   ]
  },
  {
   "cell_type": "code",
   "execution_count": null,
   "id": "037db0c5",
   "metadata": {},
   "outputs": [],
   "source": [
    "scaler = StandardScaler()\n",
    "X = pd.DataFrame(scaler.fit_transform(X), columns=X.columns)\n",
    "X.head()"
   ]
  },
  {
   "cell_type": "markdown",
   "id": "5da29337",
   "metadata": {},
   "source": [
    "# Finding best random state for building Regression Models"
   ]
  },
  {
   "cell_type": "code",
   "execution_count": null,
   "id": "1c7e4c44",
   "metadata": {},
   "outputs": [],
   "source": [
    "maxAccu=0\n",
    "maxRS=0\n",
    "\n",
    "for i in range(1, 1000):\n",
    "    X_train, X_test, Y_train, Y_test = train_test_split(X, Y, test_size=0.25, random_state=i)\n",
    "    lr=LogisticRegression()\n",
    "    lr.fit(X_train, Y_train)\n",
    "    pred = lr.predict(X_test)\n",
    "    acc_score = (accuracy_score(Y_test, pred))*100\n",
    "    \n",
    "    if acc_score>maxAccu:\n",
    "        maxAccu=acc_score\n",
    "        maxRS=i\n",
    "\n",
    "print(\"Best accuracy score is\", maxAccu,\"on Random State\", maxRS)"
   ]
  },
  {
   "cell_type": "markdown",
   "id": "e6ef99f7",
   "metadata": {},
   "source": [
    "# Creating the training and testing data sets"
   ]
  },
  {
   "cell_type": "code",
   "execution_count": null,
   "id": "8be5488a",
   "metadata": {},
   "outputs": [],
   "source": [
    "X_train, X_test, Y_train, Y_test = train_test_split(X, Y, test_size=0.25, random_state=759)"
   ]
  },
  {
   "cell_type": "markdown",
   "id": "10c91d44",
   "metadata": {},
   "source": [
    "# Machine Learning Model for Classification with Evaluation Metrics# "
   ]
  },
  {
   "cell_type": "code",
   "execution_count": null,
   "id": "fae7dc15",
   "metadata": {},
   "outputs": [],
   "source": [
    "# Classification Model Function\n",
    "\n",
    "def classify(model, X, Y):\n",
    "    X_train, X_test, Y_train, Y_test = train_test_split(X, Y, test_size=0.25, random_state=759)\n",
    "    \n",
    "    # Training the model\n",
    "    model.fit(X_train, Y_train)\n",
    "    \n",
    "    # Predicting Y_test\n",
    "    pred = model.predict(X_test)\n",
    "    \n",
    "    # Accuracy Score\n",
    "    acc_score = (accuracy_score(Y_test, pred))*100\n",
    "    print(\"Accuracy Score:\", acc_score)\n",
    "    \n",
    "    # Classification Report\n",
    "    class_report = classification_report(Y_test, pred)\n",
    "    print(\"\\nClassification Report:\\n\", class_report)\n",
    "    \n",
    "    # Cross Validation Score\n",
    "    cv_score = (cross_val_score(model, X, Y, cv=5).mean())*100\n",
    "    print(\"Cross Validation Score:\", cv_score)\n",
    "    \n",
    "    # Result of accuracy minus cv scores\n",
    "    result = acc_score - cv_score\n",
    "    print(\"\\nAccuracy Score - Cross Validation Score is\", result)\n"
   ]
  },
  {
   "cell_type": "code",
   "execution_count": null,
   "id": "b60cf505",
   "metadata": {},
   "outputs": [],
   "source": [
    "# Logistic Regression\n",
    "\n",
    "model=LogisticRegression()\n",
    "classify(model, X, Y)"
   ]
  },
  {
   "cell_type": "code",
   "execution_count": null,
   "id": "1a46d9d8",
   "metadata": {},
   "outputs": [],
   "source": [
    "# Support Vector Classifier\n",
    "\n",
    "model=SVC(C=1.0, kernel='rbf', gamma='auto', random_state=42)\n",
    "classify(model, X, Y)"
   ]
  },
  {
   "cell_type": "code",
   "execution_count": null,
   "id": "0700f96e",
   "metadata": {},
   "outputs": [],
   "source": [
    "# Decision Tree Classifier\n",
    "\n",
    "model=DecisionTreeClassifier(random_state=21, max_depth=15)\n",
    "classify(model, X, Y)\n"
   ]
  },
  {
   "cell_type": "code",
   "execution_count": null,
   "id": "88c229bb",
   "metadata": {},
   "outputs": [],
   "source": [
    "# Random Forest Classifier\n",
    "\n",
    "model=RandomForestClassifier(max_depth=15, random_state=111)\n",
    "classify(model, X, Y)\n"
   ]
  },
  {
   "cell_type": "code",
   "execution_count": null,
   "id": "a2691f78",
   "metadata": {},
   "outputs": [],
   "source": [
    "# K Neighbors Classifier\n",
    "\n",
    "model=KNeighborsClassifier(n_neighbors=15)\n",
    "classify(model, X, Y)"
   ]
  },
  {
   "cell_type": "code",
   "execution_count": null,
   "id": "1d21f01b",
   "metadata": {},
   "outputs": [],
   "source": [
    "# Extra Trees Classifier\n",
    "\n",
    "model=ExtraTreesClassifier()\n",
    "classify(model, X, Y)\n"
   ]
  },
  {
   "cell_type": "code",
   "execution_count": null,
   "id": "af3900da",
   "metadata": {},
   "outputs": [],
   "source": [
    "# XGB Classifier\n",
    "\n",
    "model=xgb.XGBClassifier(verbosity=0)\n",
    "classify(model, X, Y)"
   ]
  },
  {
   "cell_type": "code",
   "execution_count": null,
   "id": "4dfb6613",
   "metadata": {},
   "outputs": [],
   "source": [
    "# LGBM Classifier\n",
    "\n",
    "model=lgb.LGBMClassifier()\n",
    "classify(model, X, Y)"
   ]
  },
  {
   "cell_type": "markdown",
   "id": "9755ebe9",
   "metadata": {},
   "source": [
    "# Hyper parameter tuning on the best Classification ML Model"
   ]
  },
  {
   "cell_type": "code",
   "execution_count": null,
   "id": "ece0c46e",
   "metadata": {},
   "outputs": [],
   "source": [
    "# Choosing Decision Tree Classifier\n",
    "\n",
    "fmod_param = {'criterion' : [\"gini\", \"entropy\"],\n",
    "              'splitter' : [\"best\", \"random\"],\n",
    "              'min_samples_split' : [2, 3, 4],\n",
    "              'max_depth' : [4, 6, 8],\n",
    "              'random_state' : [42, 111, 759]\n",
    "             }"
   ]
  },
  {
   "cell_type": "code",
   "execution_count": null,
   "id": "ac83e525",
   "metadata": {},
   "outputs": [],
   "source": [
    "GSCV = GridSearchCV(DecisionTreeClassifier(), fmod_param, cv=5)"
   ]
  },
  {
   "cell_type": "code",
   "execution_count": null,
   "id": "18dcdc0f",
   "metadata": {},
   "outputs": [],
   "source": [
    "GSCV.fit(X_train,Y_train)"
   ]
  },
  {
   "cell_type": "code",
   "execution_count": null,
   "id": "87c8aa4d",
   "metadata": {},
   "outputs": [],
   "source": [
    "GSCV.best_params_"
   ]
  },
  {
   "cell_type": "code",
   "execution_count": null,
   "id": "121e191d",
   "metadata": {},
   "outputs": [],
   "source": [
    "GSCV.best_score_"
   ]
  },
  {
   "cell_type": "code",
   "execution_count": null,
   "id": "a527c455",
   "metadata": {},
   "outputs": [],
   "source": [
    "Final_Model = DecisionTreeClassifier(criterion=\"entropy\", max_depth=8, min_samples_split=4, \n",
    "                                     random_state=42, splitter=\"best\")\n",
    "Classifier = Final_Model.fit(X_train, Y_train)\n",
    "fmod_pred = Final_Model.predict(X_test)\n",
    "fmod_acc = (accuracy_score(Y_test, fmod_pred))*100\n",
    "print(\"Accuracy score for the Best Model is:\", fmod_acc)"
   ]
  },
  {
   "cell_type": "code",
   "execution_count": null,
   "id": "cf373b17",
   "metadata": {},
   "outputs": [],
   "source": [
    "disp = metrics.plot_roc_curve(Final_Model, X_test, Y_test)\n",
    "disp.figure_.suptitle(\"ROC Curve\")\n",
    "plt.show()"
   ]
  },
  {
   "cell_type": "code",
   "execution_count": null,
   "id": "562cfbdd",
   "metadata": {},
   "outputs": [],
   "source": [
    "class_names = df.columns\n",
    "metrics.plot_confusion_matrix(Classifier, X_test, Y_test, cmap='mako')\n",
    "plt.title('\\t Confusion Matrix for Decision Tree Classifier \\n')\n",
    "plt.show()"
   ]
  },
  {
   "cell_type": "code",
   "execution_count": null,
   "id": "c1f49631",
   "metadata": {},
   "outputs": [],
   "source": [
    "filename = \"FinalModel_E03.pkl\"\n",
    "joblib.dump(Final_Model, filename)"
   ]
  }
 ],
 "metadata": {
  "kernelspec": {
   "display_name": "Python 3 (ipykernel)",
   "language": "python",
   "name": "python3"
  },
  "language_info": {
   "codemirror_mode": {
    "name": "ipython",
    "version": 3
   },
   "file_extension": ".py",
   "mimetype": "text/x-python",
   "name": "python",
   "nbconvert_exporter": "python",
   "pygments_lexer": "ipython3",
   "version": "3.9.7"
  }
 },
 "nbformat": 4,
 "nbformat_minor": 5
}
